{
  "cells": [
    {
      "cell_type": "markdown",
      "metadata": {
        "id": "view-in-github",
        "colab_type": "text"
      },
      "source": [
        "<a href=\"https://colab.research.google.com/github/Chirag314/Monthly-supply-of-houses-in-US/blob/main/Monthly_supply_of_new_house.ipynb\" target=\"_parent\"><img src=\"https://colab.research.google.com/assets/colab-badge.svg\" alt=\"Open In Colab\"/></a>"
      ]
    },
    {
      "cell_type": "markdown",
      "source": [
        "#####Reference \n",
        "1.https://towardsdatascience.com/time-series-analysis-visualization-forecasting-with-lstm-77a905180eba\n",
        "\n",
        "2.https://www.kaggle.com/code/ashwinshetgaonkar/wind-power-arima"
      ],
      "metadata": {
        "id": "gnqkX44HPJka"
      }
    },
    {
      "cell_type": "code",
      "execution_count": 1,
      "metadata": {
        "id": "ySF73OPGs98I"
      },
      "outputs": [],
      "source": [
        "#Import packages\n",
        "import math\n",
        "import tensorflow as tf\n",
        "from tensorflow import keras\n",
        "from tensorflow.keras import layers\n",
        "from tensorflow.keras.utils import Sequence\n",
        "from datetime import timedelta\n",
        "from sklearn.preprocessing import MinMaxScaler\n",
        "from sklearn.metrics import mean_squared_error\n",
        "import numpy as np\n",
        "import pandas as pd\n",
        "import time\n",
        "import os\n",
        "\n",
        "pd.set_option('display.float_format',lambda x: '%.4f' %x)\n",
        "import seaborn as sns \n",
        "sns.set_context('paper',font_scale=1.3)\n",
        "sns.set_style('white')\n",
        "import warnings\n",
        "warnings.filterwarnings('ignore')\n",
        "from time import time\n",
        "import matplotlib.ticker as tkr\n",
        "from scipy import stats\n",
        "from statsmodels.tsa.stattools import adfuller\n",
        "from statsmodels.tsa.stattools import adfuller,kpss\n",
        "from statsmodels.graphics.tsaplots import plot_acf,plot_pacf\n",
        "from statsmodels.tsa.seasonal import seasonal_decompose\n",
        "#from statsmodels.tsa.arima.model import ARIMA\n",
        "from statsmodels.tsa.statespace.sarimax import SARIMAX\n",
        "from tensorflow.keras.metrics import mean_absolute_percentage_error\n",
        "\n",
        "from keras.layers import *\n",
        "from sklearn.metrics import mean_absolute_error\n",
        "from keras.callbacks import EarlyStopping\n",
        "\n",
        "from IPython.core.display import HTML,display\n",
        "\n",
        "import matplotlib.pyplot as plt\n",
        "%matplotlib inline\n",
        "\n",
        "\n",
        "\n"
      ]
    },
    {
      "cell_type": "markdown",
      "source": [
        "<code style=\"background:yellow;color:red\">Basic EDA</code>\n",
        "####1.Check shape of data and other attributes"
      ],
      "metadata": {
        "id": "J5vhKxXeDmO8"
      }
    },
    {
      "cell_type": "code",
      "execution_count": 30,
      "metadata": {
        "colab": {
          "base_uri": "https://localhost:8080/",
          "height": 224
        },
        "id": "3Bkw1yc4jVI1",
        "outputId": "6501ee82-a7b6-4ad6-c28c-7aa06f763b93"
      },
      "outputs": [
        {
          "output_type": "stream",
          "name": "stdout",
          "text": [
            "712 2\n"
          ]
        },
        {
          "output_type": "execute_result",
          "data": {
            "text/plain": [
              "         DATE  MSACSR\n",
              "0  1963-01-01  4.7000\n",
              "1  1963-02-01  6.6000\n",
              "2  1963-03-01  6.4000\n",
              "3  1963-04-01  5.3000\n",
              "4  1963-05-01  5.1000"
            ],
            "text/html": [
              "\n",
              "  <div id=\"df-ddd77be4-0828-4f6f-907e-c747f025847b\">\n",
              "    <div class=\"colab-df-container\">\n",
              "      <div>\n",
              "<style scoped>\n",
              "    .dataframe tbody tr th:only-of-type {\n",
              "        vertical-align: middle;\n",
              "    }\n",
              "\n",
              "    .dataframe tbody tr th {\n",
              "        vertical-align: top;\n",
              "    }\n",
              "\n",
              "    .dataframe thead th {\n",
              "        text-align: right;\n",
              "    }\n",
              "</style>\n",
              "<table border=\"1\" class=\"dataframe\">\n",
              "  <thead>\n",
              "    <tr style=\"text-align: right;\">\n",
              "      <th></th>\n",
              "      <th>DATE</th>\n",
              "      <th>MSACSR</th>\n",
              "    </tr>\n",
              "  </thead>\n",
              "  <tbody>\n",
              "    <tr>\n",
              "      <th>0</th>\n",
              "      <td>1963-01-01</td>\n",
              "      <td>4.7000</td>\n",
              "    </tr>\n",
              "    <tr>\n",
              "      <th>1</th>\n",
              "      <td>1963-02-01</td>\n",
              "      <td>6.6000</td>\n",
              "    </tr>\n",
              "    <tr>\n",
              "      <th>2</th>\n",
              "      <td>1963-03-01</td>\n",
              "      <td>6.4000</td>\n",
              "    </tr>\n",
              "    <tr>\n",
              "      <th>3</th>\n",
              "      <td>1963-04-01</td>\n",
              "      <td>5.3000</td>\n",
              "    </tr>\n",
              "    <tr>\n",
              "      <th>4</th>\n",
              "      <td>1963-05-01</td>\n",
              "      <td>5.1000</td>\n",
              "    </tr>\n",
              "  </tbody>\n",
              "</table>\n",
              "</div>\n",
              "      <button class=\"colab-df-convert\" onclick=\"convertToInteractive('df-ddd77be4-0828-4f6f-907e-c747f025847b')\"\n",
              "              title=\"Convert this dataframe to an interactive table.\"\n",
              "              style=\"display:none;\">\n",
              "        \n",
              "  <svg xmlns=\"http://www.w3.org/2000/svg\" height=\"24px\"viewBox=\"0 0 24 24\"\n",
              "       width=\"24px\">\n",
              "    <path d=\"M0 0h24v24H0V0z\" fill=\"none\"/>\n",
              "    <path d=\"M18.56 5.44l.94 2.06.94-2.06 2.06-.94-2.06-.94-.94-2.06-.94 2.06-2.06.94zm-11 1L8.5 8.5l.94-2.06 2.06-.94-2.06-.94L8.5 2.5l-.94 2.06-2.06.94zm10 10l.94 2.06.94-2.06 2.06-.94-2.06-.94-.94-2.06-.94 2.06-2.06.94z\"/><path d=\"M17.41 7.96l-1.37-1.37c-.4-.4-.92-.59-1.43-.59-.52 0-1.04.2-1.43.59L10.3 9.45l-7.72 7.72c-.78.78-.78 2.05 0 2.83L4 21.41c.39.39.9.59 1.41.59.51 0 1.02-.2 1.41-.59l7.78-7.78 2.81-2.81c.8-.78.8-2.07 0-2.86zM5.41 20L4 18.59l7.72-7.72 1.47 1.35L5.41 20z\"/>\n",
              "  </svg>\n",
              "      </button>\n",
              "      \n",
              "  <style>\n",
              "    .colab-df-container {\n",
              "      display:flex;\n",
              "      flex-wrap:wrap;\n",
              "      gap: 12px;\n",
              "    }\n",
              "\n",
              "    .colab-df-convert {\n",
              "      background-color: #E8F0FE;\n",
              "      border: none;\n",
              "      border-radius: 50%;\n",
              "      cursor: pointer;\n",
              "      display: none;\n",
              "      fill: #1967D2;\n",
              "      height: 32px;\n",
              "      padding: 0 0 0 0;\n",
              "      width: 32px;\n",
              "    }\n",
              "\n",
              "    .colab-df-convert:hover {\n",
              "      background-color: #E2EBFA;\n",
              "      box-shadow: 0px 1px 2px rgba(60, 64, 67, 0.3), 0px 1px 3px 1px rgba(60, 64, 67, 0.15);\n",
              "      fill: #174EA6;\n",
              "    }\n",
              "\n",
              "    [theme=dark] .colab-df-convert {\n",
              "      background-color: #3B4455;\n",
              "      fill: #D2E3FC;\n",
              "    }\n",
              "\n",
              "    [theme=dark] .colab-df-convert:hover {\n",
              "      background-color: #434B5C;\n",
              "      box-shadow: 0px 1px 3px 1px rgba(0, 0, 0, 0.15);\n",
              "      filter: drop-shadow(0px 1px 2px rgba(0, 0, 0, 0.3));\n",
              "      fill: #FFFFFF;\n",
              "    }\n",
              "  </style>\n",
              "\n",
              "      <script>\n",
              "        const buttonEl =\n",
              "          document.querySelector('#df-ddd77be4-0828-4f6f-907e-c747f025847b button.colab-df-convert');\n",
              "        buttonEl.style.display =\n",
              "          google.colab.kernel.accessAllowed ? 'block' : 'none';\n",
              "\n",
              "        async function convertToInteractive(key) {\n",
              "          const element = document.querySelector('#df-ddd77be4-0828-4f6f-907e-c747f025847b');\n",
              "          const dataTable =\n",
              "            await google.colab.kernel.invokeFunction('convertToInteractive',\n",
              "                                                     [key], {});\n",
              "          if (!dataTable) return;\n",
              "\n",
              "          const docLinkHtml = 'Like what you see? Visit the ' +\n",
              "            '<a target=\"_blank\" href=https://colab.research.google.com/notebooks/data_table.ipynb>data table notebook</a>'\n",
              "            + ' to learn more about interactive tables.';\n",
              "          element.innerHTML = '';\n",
              "          dataTable['output_type'] = 'display_data';\n",
              "          await google.colab.output.renderOutput(dataTable, element);\n",
              "          const docLink = document.createElement('div');\n",
              "          docLink.innerHTML = docLinkHtml;\n",
              "          element.appendChild(docLink);\n",
              "        }\n",
              "      </script>\n",
              "    </div>\n",
              "  </div>\n",
              "  "
            ]
          },
          "metadata": {},
          "execution_count": 30
        }
      ],
      "source": [
        "# read dataset\n",
        "df=pd.read_csv('MSACSR1.csv',delimiter=',')\n",
        "row, columns=df.shape[0],df.shape[1]\n",
        "print(row, columns)\n",
        "\n",
        "df.head()"
      ]
    },
    {
      "cell_type": "code",
      "source": [
        "# Convert your daily column from just string to DateTime (skip if already done)\n",
        "df['DATE'] = pd.to_datetime(df['DATE'])\n",
        "df.set_index('DATE',inplace=True)\n",
        "# Specify datetime frequency\n",
        "#df = df.asfreq('M')"
      ],
      "metadata": {
        "id": "xf36gyuYTVV2"
      },
      "execution_count": 37,
      "outputs": []
    },
    {
      "cell_type": "code",
      "source": [
        "df.head()"
      ],
      "metadata": {
        "colab": {
          "base_uri": "https://localhost:8080/",
          "height": 238
        },
        "id": "ecBY6VStTiR2",
        "outputId": "96395cae-ebf8-46f8-c855-07493b89303f"
      },
      "execution_count": 38,
      "outputs": [
        {
          "output_type": "execute_result",
          "data": {
            "text/plain": [
              "            MSACSR\n",
              "DATE              \n",
              "1963-01-01  4.7000\n",
              "1963-02-01  6.6000\n",
              "1963-03-01  6.4000\n",
              "1963-04-01  5.3000\n",
              "1963-05-01  5.1000"
            ],
            "text/html": [
              "\n",
              "  <div id=\"df-2fbb4f1c-d9c8-43f9-b372-7d72af8a3dc7\">\n",
              "    <div class=\"colab-df-container\">\n",
              "      <div>\n",
              "<style scoped>\n",
              "    .dataframe tbody tr th:only-of-type {\n",
              "        vertical-align: middle;\n",
              "    }\n",
              "\n",
              "    .dataframe tbody tr th {\n",
              "        vertical-align: top;\n",
              "    }\n",
              "\n",
              "    .dataframe thead th {\n",
              "        text-align: right;\n",
              "    }\n",
              "</style>\n",
              "<table border=\"1\" class=\"dataframe\">\n",
              "  <thead>\n",
              "    <tr style=\"text-align: right;\">\n",
              "      <th></th>\n",
              "      <th>MSACSR</th>\n",
              "    </tr>\n",
              "    <tr>\n",
              "      <th>DATE</th>\n",
              "      <th></th>\n",
              "    </tr>\n",
              "  </thead>\n",
              "  <tbody>\n",
              "    <tr>\n",
              "      <th>1963-01-01</th>\n",
              "      <td>4.7000</td>\n",
              "    </tr>\n",
              "    <tr>\n",
              "      <th>1963-02-01</th>\n",
              "      <td>6.6000</td>\n",
              "    </tr>\n",
              "    <tr>\n",
              "      <th>1963-03-01</th>\n",
              "      <td>6.4000</td>\n",
              "    </tr>\n",
              "    <tr>\n",
              "      <th>1963-04-01</th>\n",
              "      <td>5.3000</td>\n",
              "    </tr>\n",
              "    <tr>\n",
              "      <th>1963-05-01</th>\n",
              "      <td>5.1000</td>\n",
              "    </tr>\n",
              "  </tbody>\n",
              "</table>\n",
              "</div>\n",
              "      <button class=\"colab-df-convert\" onclick=\"convertToInteractive('df-2fbb4f1c-d9c8-43f9-b372-7d72af8a3dc7')\"\n",
              "              title=\"Convert this dataframe to an interactive table.\"\n",
              "              style=\"display:none;\">\n",
              "        \n",
              "  <svg xmlns=\"http://www.w3.org/2000/svg\" height=\"24px\"viewBox=\"0 0 24 24\"\n",
              "       width=\"24px\">\n",
              "    <path d=\"M0 0h24v24H0V0z\" fill=\"none\"/>\n",
              "    <path d=\"M18.56 5.44l.94 2.06.94-2.06 2.06-.94-2.06-.94-.94-2.06-.94 2.06-2.06.94zm-11 1L8.5 8.5l.94-2.06 2.06-.94-2.06-.94L8.5 2.5l-.94 2.06-2.06.94zm10 10l.94 2.06.94-2.06 2.06-.94-2.06-.94-.94-2.06-.94 2.06-2.06.94z\"/><path d=\"M17.41 7.96l-1.37-1.37c-.4-.4-.92-.59-1.43-.59-.52 0-1.04.2-1.43.59L10.3 9.45l-7.72 7.72c-.78.78-.78 2.05 0 2.83L4 21.41c.39.39.9.59 1.41.59.51 0 1.02-.2 1.41-.59l7.78-7.78 2.81-2.81c.8-.78.8-2.07 0-2.86zM5.41 20L4 18.59l7.72-7.72 1.47 1.35L5.41 20z\"/>\n",
              "  </svg>\n",
              "      </button>\n",
              "      \n",
              "  <style>\n",
              "    .colab-df-container {\n",
              "      display:flex;\n",
              "      flex-wrap:wrap;\n",
              "      gap: 12px;\n",
              "    }\n",
              "\n",
              "    .colab-df-convert {\n",
              "      background-color: #E8F0FE;\n",
              "      border: none;\n",
              "      border-radius: 50%;\n",
              "      cursor: pointer;\n",
              "      display: none;\n",
              "      fill: #1967D2;\n",
              "      height: 32px;\n",
              "      padding: 0 0 0 0;\n",
              "      width: 32px;\n",
              "    }\n",
              "\n",
              "    .colab-df-convert:hover {\n",
              "      background-color: #E2EBFA;\n",
              "      box-shadow: 0px 1px 2px rgba(60, 64, 67, 0.3), 0px 1px 3px 1px rgba(60, 64, 67, 0.15);\n",
              "      fill: #174EA6;\n",
              "    }\n",
              "\n",
              "    [theme=dark] .colab-df-convert {\n",
              "      background-color: #3B4455;\n",
              "      fill: #D2E3FC;\n",
              "    }\n",
              "\n",
              "    [theme=dark] .colab-df-convert:hover {\n",
              "      background-color: #434B5C;\n",
              "      box-shadow: 0px 1px 3px 1px rgba(0, 0, 0, 0.15);\n",
              "      filter: drop-shadow(0px 1px 2px rgba(0, 0, 0, 0.3));\n",
              "      fill: #FFFFFF;\n",
              "    }\n",
              "  </style>\n",
              "\n",
              "      <script>\n",
              "        const buttonEl =\n",
              "          document.querySelector('#df-2fbb4f1c-d9c8-43f9-b372-7d72af8a3dc7 button.colab-df-convert');\n",
              "        buttonEl.style.display =\n",
              "          google.colab.kernel.accessAllowed ? 'block' : 'none';\n",
              "\n",
              "        async function convertToInteractive(key) {\n",
              "          const element = document.querySelector('#df-2fbb4f1c-d9c8-43f9-b372-7d72af8a3dc7');\n",
              "          const dataTable =\n",
              "            await google.colab.kernel.invokeFunction('convertToInteractive',\n",
              "                                                     [key], {});\n",
              "          if (!dataTable) return;\n",
              "\n",
              "          const docLinkHtml = 'Like what you see? Visit the ' +\n",
              "            '<a target=\"_blank\" href=https://colab.research.google.com/notebooks/data_table.ipynb>data table notebook</a>'\n",
              "            + ' to learn more about interactive tables.';\n",
              "          element.innerHTML = '';\n",
              "          dataTable['output_type'] = 'display_data';\n",
              "          await google.colab.output.renderOutput(dataTable, element);\n",
              "          const docLink = document.createElement('div');\n",
              "          docLink.innerHTML = docLinkHtml;\n",
              "          element.appendChild(docLink);\n",
              "        }\n",
              "      </script>\n",
              "    </div>\n",
              "  </div>\n",
              "  "
            ]
          },
          "metadata": {},
          "execution_count": 38
        }
      ]
    },
    {
      "cell_type": "code",
      "source": [
        "display(HTML(f\"<h3>  <b style='color:blue;font-size:22px;'>Inference </b>:<ul><li>There are {row} rows and {columns} columns.</li></ul></h3>\"))"
      ],
      "metadata": {
        "colab": {
          "base_uri": "https://localhost:8080/",
          "height": 93
        },
        "id": "ovmxd81nF_aa",
        "outputId": "ca4447bf-4ff9-4e21-9635-5316e5a069d4"
      },
      "execution_count": 39,
      "outputs": [
        {
          "output_type": "display_data",
          "data": {
            "text/plain": [
              "<IPython.core.display.HTML object>"
            ],
            "text/html": [
              "<h3>  <b style='color:blue;font-size:22px;'>Inference </b>:<ul><li>There are 712 rows and 2 columns.</li></ul></h3>"
            ]
          },
          "metadata": {}
        }
      ]
    },
    {
      "cell_type": "code",
      "source": [
        "# checking for NaN values.\n",
        "no_of_nan_values=df.isna().sum().sum()\n",
        "no_of_nan_values"
      ],
      "metadata": {
        "colab": {
          "base_uri": "https://localhost:8080/"
        },
        "id": "2NWv80z3IBxz",
        "outputId": "04820da6-8fd9-47f2-a517-dd4498a5b09f"
      },
      "execution_count": 40,
      "outputs": [
        {
          "output_type": "execute_result",
          "data": {
            "text/plain": [
              "0"
            ]
          },
          "metadata": {},
          "execution_count": 40
        }
      ]
    },
    {
      "cell_type": "code",
      "source": [
        "display(HTML(f\"<h3>  <b style='color:red;font-size:22px;'>Inference </b>:<ul><li>There are {no_of_nan_values} NaN values.</li></ul></h3>\"))"
      ],
      "metadata": {
        "colab": {
          "base_uri": "https://localhost:8080/",
          "height": 93
        },
        "id": "FfkhuCBFIM_J",
        "outputId": "e5eedde1-9b2f-49fd-8cec-31fc422a5bb2"
      },
      "execution_count": 41,
      "outputs": [
        {
          "output_type": "display_data",
          "data": {
            "text/plain": [
              "<IPython.core.display.HTML object>"
            ],
            "text/html": [
              "<h3>  <b style='color:red;font-size:22px;'>Inference </b>:<ul><li>There are 0 NaN values.</li></ul></h3>"
            ]
          },
          "metadata": {}
        }
      ]
    },
    {
      "cell_type": "markdown",
      "source": [
        "## **VISUALIZING DATA:**"
      ],
      "metadata": {
        "id": "mnCEBJNnIapI"
      }
    },
    {
      "cell_type": "code",
      "source": [
        "import matplotlib.dates as mdates\n",
        "#plt.figure(figsize=(30,8))\n",
        "#sns.lineplot(data=df,x=df.index,y='MSACSR',color='red',lw=2,)\n",
        "\n",
        "#plt.xticks(rotation=45)\n",
        "\n",
        "#plt.ylabel(\"Ratio of new house for sale/sold\")\n",
        "#plt.title('Monthly supply of new houses in United States')\n",
        "\n",
        "fig, ax = plt.subplots(figsize=(30, 8))\n",
        "\n",
        "monthly_locator = mdates.MonthLocator()\n",
        "year_locator = mdates.MonthLocator(interval=12)\n",
        "year_month_formatter = mdates.DateFormatter(\"%Y-%m\") # four digits for year, two for month\n",
        "ax.xaxis.set_major_locator(year_locator)\n",
        "ax.xaxis.set_minor_locator(monthly_locator)\n",
        "ax.xaxis.set_major_formatter(year_month_formatter)\n",
        "ax.plot(df.index, df.MSACSR)\n",
        "\n",
        "fig.autofmt_xdate()"
      ],
      "metadata": {
        "colab": {
          "base_uri": "https://localhost:8080/",
          "height": 463
        },
        "id": "xXWvLYwkAail",
        "outputId": "3933b234-24d7-4b7f-9ad9-cc761b1ef807"
      },
      "execution_count": 44,
      "outputs": [
        {
          "output_type": "display_data",
          "data": {
            "text/plain": [
              "<Figure size 2160x576 with 1 Axes>"
            ],
            "image/png": "[encoded data removed]"
          },
          "metadata": {
            "needs_background": "light"
          }
        }
      ]
    },
    {
      "cell_type": "markdown",
      "source": [
        "<code style=\"background:ORANGE;color:BLUE\">CHECK SEASONALITY AND TREND </code>"
      ],
      "metadata": {
        "id": "tpwSSN1YPqCN"
      }
    },
    {
      "cell_type": "code",
      "source": [
        "# Check stationarity of the data\n",
        "def adf_test(timeseries):\n",
        "    print(\"Results of Augmented Dickey-fuller test\")\n",
        "    dftest = adfuller(timeseries,autolag='AIC')\n",
        "    dfoutput=pd.Series(dftest[0:4],index=['Test Statistic','p-value','#lags used','number of observations used'])\n",
        "    for key,value in dftest[4].items():\n",
        "        dfoutput['critical value (%s)'%key]= value\n",
        "    print(dfoutput)\n"
      ],
      "metadata": {
        "id": "aoemhPV0UNOB"
      },
      "execution_count": 45,
      "outputs": []
    },
    {
      "cell_type": "code",
      "source": [
        "df['first_diff']=df['MSACSR'].diff(periods=1)"
      ],
      "metadata": {
        "id": "0aDKI4PnVJNq"
      },
      "execution_count": 46,
      "outputs": []
    },
    {
      "cell_type": "code",
      "source": [
        "df.head()"
      ],
      "metadata": {
        "colab": {
          "base_uri": "https://localhost:8080/",
          "height": 238
        },
        "id": "Mfob7nOLVVYm",
        "outputId": "96dbd7b9-f75d-4c0b-9866-e38274f71fb9"
      },
      "execution_count": 47,
      "outputs": [
        {
          "output_type": "execute_result",
          "data": {
            "text/plain": [
              "            MSACSR  first_diff\n",
              "DATE                          \n",
              "1963-01-01  4.7000         NaN\n",
              "1963-02-01  6.6000      1.9000\n",
              "1963-03-01  6.4000     -0.2000\n",
              "1963-04-01  5.3000     -1.1000\n",
              "1963-05-01  5.1000     -0.2000"
            ],
            "text/html": [
              "\n",
              "  <div id=\"df-a01ef7de-c31c-4890-865f-fd9a06f42d0a\">\n",
              "    <div class=\"colab-df-container\">\n",
              "      <div>\n",
              "<style scoped>\n",
              "    .dataframe tbody tr th:only-of-type {\n",
              "        vertical-align: middle;\n",
              "    }\n",
              "\n",
              "    .dataframe tbody tr th {\n",
              "        vertical-align: top;\n",
              "    }\n",
              "\n",
              "    .dataframe thead th {\n",
              "        text-align: right;\n",
              "    }\n",
              "</style>\n",
              "<table border=\"1\" class=\"dataframe\">\n",
              "  <thead>\n",
              "    <tr style=\"text-align: right;\">\n",
              "      <th></th>\n",
              "      <th>MSACSR</th>\n",
              "      <th>first_diff</th>\n",
              "    </tr>\n",
              "    <tr>\n",
              "      <th>DATE</th>\n",
              "      <th></th>\n",
              "      <th></th>\n",
              "    </tr>\n",
              "  </thead>\n",
              "  <tbody>\n",
              "    <tr>\n",
              "      <th>1963-01-01</th>\n",
              "      <td>4.7000</td>\n",
              "      <td>NaN</td>\n",
              "    </tr>\n",
              "    <tr>\n",
              "      <th>1963-02-01</th>\n",
              "      <td>6.6000</td>\n",
              "      <td>1.9000</td>\n",
              "    </tr>\n",
              "    <tr>\n",
              "      <th>1963-03-01</th>\n",
              "      <td>6.4000</td>\n",
              "      <td>-0.2000</td>\n",
              "    </tr>\n",
              "    <tr>\n",
              "      <th>1963-04-01</th>\n",
              "      <td>5.3000</td>\n",
              "      <td>-1.1000</td>\n",
              "    </tr>\n",
              "    <tr>\n",
              "      <th>1963-05-01</th>\n",
              "      <td>5.1000</td>\n",
              "      <td>-0.2000</td>\n",
              "    </tr>\n",
              "  </tbody>\n",
              "</table>\n",
              "</div>\n",
              "      <button class=\"colab-df-convert\" onclick=\"convertToInteractive('df-a01ef7de-c31c-4890-865f-fd9a06f42d0a')\"\n",
              "              title=\"Convert this dataframe to an interactive table.\"\n",
              "              style=\"display:none;\">\n",
              "        \n",
              "  <svg xmlns=\"http://www.w3.org/2000/svg\" height=\"24px\"viewBox=\"0 0 24 24\"\n",
              "       width=\"24px\">\n",
              "    <path d=\"M0 0h24v24H0V0z\" fill=\"none\"/>\n",
              "    <path d=\"M18.56 5.44l.94 2.06.94-2.06 2.06-.94-2.06-.94-.94-2.06-.94 2.06-2.06.94zm-11 1L8.5 8.5l.94-2.06 2.06-.94-2.06-.94L8.5 2.5l-.94 2.06-2.06.94zm10 10l.94 2.06.94-2.06 2.06-.94-2.06-.94-.94-2.06-.94 2.06-2.06.94z\"/><path d=\"M17.41 7.96l-1.37-1.37c-.4-.4-.92-.59-1.43-.59-.52 0-1.04.2-1.43.59L10.3 9.45l-7.72 7.72c-.78.78-.78 2.05 0 2.83L4 21.41c.39.39.9.59 1.41.59.51 0 1.02-.2 1.41-.59l7.78-7.78 2.81-2.81c.8-.78.8-2.07 0-2.86zM5.41 20L4 18.59l7.72-7.72 1.47 1.35L5.41 20z\"/>\n",
              "  </svg>\n",
              "      </button>\n",
              "      \n",
              "  <style>\n",
              "    .colab-df-container {\n",
              "      display:flex;\n",
              "      flex-wrap:wrap;\n",
              "      gap: 12px;\n",
              "    }\n",
              "\n",
              "    .colab-df-convert {\n",
              "      background-color: #E8F0FE;\n",
              "      border: none;\n",
              "      border-radius: 50%;\n",
              "      cursor: pointer;\n",
              "      display: none;\n",
              "      fill: #1967D2;\n",
              "      height: 32px;\n",
              "      padding: 0 0 0 0;\n",
              "      width: 32px;\n",
              "    }\n",
              "\n",
              "    .colab-df-convert:hover {\n",
              "      background-color: #E2EBFA;\n",
              "      box-shadow: 0px 1px 2px rgba(60, 64, 67, 0.3), 0px 1px 3px 1px rgba(60, 64, 67, 0.15);\n",
              "      fill: #174EA6;\n",
              "    }\n",
              "\n",
              "    [theme=dark] .colab-df-convert {\n",
              "      background-color: #3B4455;\n",
              "      fill: #D2E3FC;\n",
              "    }\n",
              "\n",
              "    [theme=dark] .colab-df-convert:hover {\n",
              "      background-color: #434B5C;\n",
              "      box-shadow: 0px 1px 3px 1px rgba(0, 0, 0, 0.15);\n",
              "      filter: drop-shadow(0px 1px 2px rgba(0, 0, 0, 0.3));\n",
              "      fill: #FFFFFF;\n",
              "    }\n",
              "  </style>\n",
              "\n",
              "      <script>\n",
              "        const buttonEl =\n",
              "          document.querySelector('#df-a01ef7de-c31c-4890-865f-fd9a06f42d0a button.colab-df-convert');\n",
              "        buttonEl.style.display =\n",
              "          google.colab.kernel.accessAllowed ? 'block' : 'none';\n",
              "\n",
              "        async function convertToInteractive(key) {\n",
              "          const element = document.querySelector('#df-a01ef7de-c31c-4890-865f-fd9a06f42d0a');\n",
              "          const dataTable =\n",
              "            await google.colab.kernel.invokeFunction('convertToInteractive',\n",
              "                                                     [key], {});\n",
              "          if (!dataTable) return;\n",
              "\n",
              "          const docLinkHtml = 'Like what you see? Visit the ' +\n",
              "            '<a target=\"_blank\" href=https://colab.research.google.com/notebooks/data_table.ipynb>data table notebook</a>'\n",
              "            + ' to learn more about interactive tables.';\n",
              "          element.innerHTML = '';\n",
              "          dataTable['output_type'] = 'display_data';\n",
              "          await google.colab.output.renderOutput(dataTable, element);\n",
              "          const docLink = document.createElement('div');\n",
              "          docLink.innerHTML = docLinkHtml;\n",
              "          element.appendChild(docLink);\n",
              "        }\n",
              "      </script>\n",
              "    </div>\n",
              "  </div>\n",
              "  "
            ]
          },
          "metadata": {},
          "execution_count": 47
        }
      ]
    },
    {
      "cell_type": "code",
      "source": [
        "adf_test(df.first_diff.dropna())"
      ],
      "metadata": {
        "colab": {
          "base_uri": "https://localhost:8080/"
        },
        "id": "vps2Xf5HUwSD",
        "outputId": "f30cafcd-4ab9-4b71-819e-9b26af6803a6"
      },
      "execution_count": 48,
      "outputs": [
        {
          "output_type": "stream",
          "name": "stdout",
          "text": [
            "Results of Augmented Dickey-fuller test\n",
            "Test Statistic                 -5.7896\n",
            "p-value                         0.0000\n",
            "#lags used                     19.0000\n",
            "number of observations used   691.0000\n",
            "critical value (1%)            -3.4398\n",
            "critical value (5%)            -2.8657\n",
            "critical value (10%)           -2.5690\n",
            "dtype: float64\n"
          ]
        }
      ]
    },
    {
      "cell_type": "markdown",
      "source": [
        "####Since the p-value < 0.05 we can say that time-series is stationary."
      ],
      "metadata": {
        "id": "TYYui7GyVh7h"
      }
    },
    {
      "cell_type": "code",
      "source": [
        "\n",
        "# Check KPSS test\n",
        "def kpss_test(timeseries):\n",
        "    print ('Results of KPSS Test:')\n",
        "    kpsstest = kpss(timeseries, regression='c', lags=None)\n",
        "    kpss_output = pd.Series(kpsstest[0:3], index=['Test Statistic','p-value','#Lags Used'])\n",
        "    for key,value in kpsstest[3].items():\n",
        "        kpss_output['Critical Value (%s)'%key] = value\n",
        "    print (kpss_output)"
      ],
      "metadata": {
        "id": "ci_JUMYbWwCt"
      },
      "execution_count": 49,
      "outputs": []
    },
    {
      "cell_type": "code",
      "source": [
        "kpss_test(df.first_diff.dropna())"
      ],
      "metadata": {
        "colab": {
          "base_uri": "https://localhost:8080/"
        },
        "id": "8LxGpiwXWv_U",
        "outputId": "1f02704a-070b-4c47-e847-e7dd36ccf3fd"
      },
      "execution_count": 50,
      "outputs": [
        {
          "output_type": "stream",
          "name": "stdout",
          "text": [
            "Results of KPSS Test:\n",
            "Test Statistic           0.0419\n",
            "p-value                  0.1000\n",
            "#Lags Used              20.0000\n",
            "Critical Value (10%)     0.3470\n",
            "Critical Value (5%)      0.4630\n",
            "Critical Value (2.5%)    0.5740\n",
            "Critical Value (1%)      0.7390\n",
            "dtype: float64\n"
          ]
        },
        {
          "output_type": "stream",
          "name": "stderr",
          "text": [
            "/usr/local/lib/python3.7/dist-packages/statsmodels/tsa/stattools.py:1711: InterpolationWarning: p-value is greater than the indicated p-value\n",
            "  warn(\"p-value is greater than the indicated p-value\", InterpolationWarning)\n"
          ]
        }
      ]
    },
    {
      "cell_type": "markdown",
      "source": [
        "####Since the p-value > 0.05 we can say that time-series is stationary."
      ],
      "metadata": {
        "id": "EwAZrW_PXRHk"
      }
    },
    {
      "cell_type": "code",
      "source": [
        "# Check ACF(Autocorrelation)\n",
        "fig,ax=plt.subplots(figsize=(14,6))\n",
        "plot_acf(df.first_diff.dropna(),ax=ax,lags=100);\n",
        "plt.ylim([-0.5,1.05]);"
      ],
      "metadata": {
        "colab": {
          "base_uri": "https://localhost:8080/",
          "height": 391
        },
        "id": "OaAxAsdaWv9p",
        "outputId": "bc2e3143-9f23-429b-c282-3cab15a945ed"
      },
      "execution_count": 51,
      "outputs": [
        {
          "output_type": "display_data",
          "data": {
            "text/plain": [
              "<Figure size 1008x432 with 1 Axes>"
            ],
            "image/png": "[encoded data removed]"
          },
          "metadata": {
            "needs_background": "light"
          }
        }
      ]
    },
    {
      "cell_type": "markdown",
      "source": [
        "####Since the Series passed in both of the tests for Stationarity and the series shows low auto-correlations the series is now Stationary."
      ],
      "metadata": {
        "id": "FE9iXG_PX_Y4"
      }
    },
    {
      "cell_type": "code",
      "source": [
        "# Splitting train/val/test dataset\n",
        "num_train_samples=360  # Almost half of the samplesfor traing and remaining half equally between val and test\n",
        "num_val_samples=int((len(df)-num_train_samples)/2)\n",
        "num_test_samples=num_val_samples\n",
        "print(\"Number of training samples :\",num_train_samples)\n",
        "print(\"Number of validation samples :\", num_val_samples)\n",
        "print(\"Number of test samples  :\", num_test_samples)"
      ],
      "metadata": {
        "colab": {
          "base_uri": "https://localhost:8080/"
        },
        "id": "LKATA4hbWv66",
        "outputId": "d1b96e21-1337-4aa1-daf1-c55b011ae93b"
      },
      "execution_count": 53,
      "outputs": [
        {
          "output_type": "stream",
          "name": "stdout",
          "text": [
            "Number of training samples : 360\n",
            "Number of validation samples : 176\n",
            "Number of test samples  : 176\n"
          ]
        }
      ]
    },
    {
      "cell_type": "markdown",
      "source": [
        "###Preparing the data\n",
        "####1.Normalizing the data"
      ],
      "metadata": {
        "id": "XBXAeVwVaJpo"
      }
    },
    {
      "cell_type": "code",
      "source": [
        "mean=df[:num_train_samples].mean(axis=0)\n",
        "df-=mean\n",
        "std=df[:num_test_samples].std(axis=0)\n",
        "df/=std"
      ],
      "metadata": {
        "id": "DUjDZVzmYF4n"
      },
      "execution_count": 54,
      "outputs": []
    },
    {
      "cell_type": "markdown",
      "source": [
        "#### Now lets create a Dataset object that yields batches of data from the past 12 months with the target MSACSR value for next month. We should generate the samples on the fly rather than allocating memory for each sample. We will use built in dataset utility in Keras called timeseries_dataset_from_array()\n",
        "- We have to write three datasets one for trainaing, onve for validation and one for testing\n"
      ],
      "metadata": {
        "id": "Ve2zcc4ubWgK"
      }
    },
    {
      "cell_type": "code",
      "source": [
        "train_dataset=tf.keras.utils.timeseries_dataset_from_array(\n",
        "    df.MSACSR[:-12],\n",
        "    targets=df.MSACSR[12:],\n",
        "    sampling_rate=2,\n",
        "    sequence_length=12,\n",
        "    shuffle=True,\n",
        "    batch_size=1,\n",
        "    start_index=0,\n",
        "    end_index=num_train_samples\n",
        ")\n",
        "val_dataset=tf.keras.utils.timeseries_dataset_from_array(\n",
        "    df.MSACSR[:-12],\n",
        "    targets=df.MSACSR[12:],\n",
        "    sampling_rate=1,\n",
        "    sequence_length=12,\n",
        "    shuffle=True,\n",
        "    batch_size=1,\n",
        "    start_index=num_train_samples,\n",
        "    end_index=num_train_samples+num_val_samples\n",
        ")\n",
        "test_dataset=tf.keras.utils.timeseries_dataset_from_array(\n",
        "    df.MSACSR[:-12],\n",
        "    targets=df.MSACSR[12:],\n",
        "    sampling_rate=1,\n",
        "    sequence_length=12,\n",
        "    shuffle=True,\n",
        "    batch_size=1,\n",
        "    start_index=num_train_samples+num_val_samples\n",
        "  )\n"
      ],
      "metadata": {
        "id": "OhfZPBt6YF1H"
      },
      "execution_count": 77,
      "outputs": []
    },
    {
      "cell_type": "code",
      "source": [
        "for samples, targets in train_dataset:\n",
        "  print(\"Samples shape :\",samples.shape)\n",
        "  print(\"Target shape: \",targets.shape)\n",
        "  print(samples[-1])\n",
        "  print(targets[-1])\n",
        "  print(len(train_dataset))\n",
        "  break"
      ],
      "metadata": {
        "colab": {
          "base_uri": "https://localhost:8080/"
        },
        "id": "IM01WAryYFy6",
        "outputId": "4b8d2197-1dca-4507-bc65-66a40c45040a"
      },
      "execution_count": 78,
      "outputs": [
        {
          "output_type": "stream",
          "name": "stdout",
          "text": [
            "Samples shape : (1, 12)\n",
            "Target shape:  (1,)\n",
            "tf.Tensor(\n",
            "[-0.45526819 -0.45526819 -0.18165125 -0.66048089 -0.72888513 -0.59207666\n",
            " -0.59207666 -0.72888513 -0.79728936 -0.8656936  -1.07090631 -1.27611901], shape=(12,), dtype=float64)\n",
            "tf.Tensor(-0.5920766590045233, shape=(), dtype=float64)\n",
            "337\n"
          ]
        }
      ]
    },
    {
      "cell_type": "markdown",
      "source": [
        "####SET A COMMON SENSE NON-MACHINE LEARNING BASELINE\n",
        "#####-Here the time series can safely be assumed as continuous( data values next month are likely to be close to data value of current month). Thus a common sence approach is to always predict that the MSACSR value 1 month from now will be equal to the value of this month. Then find MAE as a baseline matric."
      ],
      "metadata": {
        "id": "NwQBVTHkhmg8"
      }
    },
    {
      "cell_type": "code",
      "source": [
        "def evaluate_naive_method(dataset):\n",
        "  total_abs_err=0.\n",
        "  samples_seen=0\n",
        "  for samples, targets in dataset:\n",
        "    preds=samples[:,-1]*std[1]+mean[1] #Un-normalise the data\n",
        "    total_abs_err+=np.sum(np.abs(preds-targets))\n",
        "    samples_seen+=samples.shape[0]\n",
        "  return total_abs_err/samples_seen\n",
        "\n",
        "\n",
        "print(f\"Validation MAE :{evaluate_naive_method(val_dataset):.2f}\")\n",
        "print(f\"Test MAE : {evaluate_naive_method(test_dataset):.2f}\")\n"
      ],
      "metadata": {
        "colab": {
          "base_uri": "https://localhost:8080/"
        },
        "id": "brvdw1JeYFwo",
        "outputId": "d2e7ec30-c866-46d4-d631-c1276016c802"
      },
      "execution_count": 79,
      "outputs": [
        {
          "output_type": "stream",
          "name": "stdout",
          "text": [
            "Validation MAE :0.63\n",
            "Test MAE : 0.51\n"
          ]
        }
      ]
    },
    {
      "cell_type": "markdown",
      "source": [
        "####The common sense baseline achieves validation MAE of 0.63 and test MAE of 0.51 . So if you always assume that the MASCSR value after a month will be same as this month, you will be off by 0.5 on average. Its not bad as average ratio is about 5 . "
      ],
      "metadata": {
        "id": "YMuWobObjm-e"
      }
    },
    {
      "cell_type": "markdown",
      "source": [
        "#####Lets try basic machine learning model. Its useful to try simple cheap machinge learning model before looking into more complicated models such as RNN, LSTMs.This is to make sure any further complexity at the problem delivers real benefits.\n",
        "Here is model 1\n"
      ],
      "metadata": {
        "id": "Y0bBAuTBkUHy"
      }
    },
    {
      "cell_type": "code",
      "source": [
        "inputs=keras.Input(shape=(12,df.shape[-1]))\n",
        "inputs"
      ],
      "metadata": {
        "colab": {
          "base_uri": "https://localhost:8080/"
        },
        "id": "CYl0_9-UoPIL",
        "outputId": "af4860c9-a56b-4686-cf36-8ca24d484a4a"
      },
      "execution_count": 80,
      "outputs": [
        {
          "output_type": "execute_result",
          "data": {
            "text/plain": [
              "<KerasTensor: shape=(None, 12, 2) dtype=float32 (created by layer 'input_4')>"
            ]
          },
          "metadata": {},
          "execution_count": 80
        }
      ]
    },
    {
      "cell_type": "code",
      "source": [
        "train_dataset"
      ],
      "metadata": {
        "colab": {
          "base_uri": "https://localhost:8080/"
        },
        "id": "Q2j3ZD0Kpjq8",
        "outputId": "e28de1b4-5b9e-46c9-9cae-723ab3d4c963"
      },
      "execution_count": 81,
      "outputs": [
        {
          "output_type": "execute_result",
          "data": {
            "text/plain": [
              "<BatchDataset element_spec=(TensorSpec(shape=(None, None), dtype=tf.float64, name=None), TensorSpec(shape=(None,), dtype=tf.float64, name=None))>"
            ]
          },
          "metadata": {},
          "execution_count": 81
        }
      ]
    },
    {
      "cell_type": "code",
      "source": [
        "inputs=tf.keras.Input(shape=(12))\n",
        "x=layers.Flatten()(inputs)\n",
        "x=layers.Dense(16,activation='relu')(x)\n",
        "outputs=layers.Dense(1)(x)\n",
        "model=tf.keras.Model(inputs,outputs)\n",
        "\n",
        "callbacks=[\n",
        "           tf.keras.callbacks.ModelCheckpoint(\"best_dense.keras\",save_best_only=True)\n",
        "           ]\n",
        "\n",
        "model.compile(optimizer='rmsprop',loss='mse',metrics=['mae'])\n",
        "model.summary()\n",
        "history=model.fit(train_dataset,\n",
        "                  epochs=10,\n",
        "                  validation_data=val_dataset,\n",
        "                  callbacks=callbacks)\n",
        "\n",
        "model=tf.keras.models.load_model(\"best_dense.keras\")\n",
        "print(f\"Test MAE: {model.evaluate(test_dataset)[1]:.2f}\")"
      ],
      "metadata": {
        "colab": {
          "base_uri": "https://localhost:8080/"
        },
        "id": "LellBPlIiX1m",
        "outputId": "fb327e1b-054e-40fa-c312-67b1e561a226"
      },
      "execution_count": 83,
      "outputs": [
        {
          "output_type": "stream",
          "name": "stdout",
          "text": [
            "Model: \"model_2\"\n",
            "_________________________________________________________________\n",
            " Layer (type)                Output Shape              Param #   \n",
            "=================================================================\n",
            " input_6 (InputLayer)        [(None, 12)]              0         \n",
            "                                                                 \n",
            " flatten_2 (Flatten)         (None, 12)                0         \n",
            "                                                                 \n",
            " dense_4 (Dense)             (None, 16)                208       \n",
            "                                                                 \n",
            " dense_5 (Dense)             (None, 1)                 17        \n",
            "                                                                 \n",
            "=================================================================\n",
            "Total params: 225\n",
            "Trainable params: 225\n",
            "Non-trainable params: 0\n",
            "_________________________________________________________________\n",
            "Epoch 1/10\n",
            "337/337 [==============================] - 1s 3ms/step - loss: 0.3380 - mae: 0.4309 - val_loss: 0.1697 - val_mae: 0.3203\n",
            "Epoch 2/10\n",
            "337/337 [==============================] - 1s 3ms/step - loss: 0.1411 - mae: 0.2831 - val_loss: 0.1722 - val_mae: 0.3109\n",
            "Epoch 3/10\n",
            "337/337 [==============================] - 1s 3ms/step - loss: 0.0954 - mae: 0.2310 - val_loss: 0.1784 - val_mae: 0.3159\n",
            "Epoch 4/10\n",
            "337/337 [==============================] - 1s 2ms/step - loss: 0.0630 - mae: 0.1868 - val_loss: 0.1860 - val_mae: 0.3204\n",
            "Epoch 5/10\n",
            "337/337 [==============================] - 1s 3ms/step - loss: 0.0404 - mae: 0.1485 - val_loss: 0.1817 - val_mae: 0.3245\n",
            "Epoch 6/10\n",
            "337/337 [==============================] - 1s 2ms/step - loss: 0.0288 - mae: 0.1204 - val_loss: 0.1834 - val_mae: 0.3267\n",
            "Epoch 7/10\n",
            "337/337 [==============================] - 1s 2ms/step - loss: 0.0214 - mae: 0.1043 - val_loss: 0.1918 - val_mae: 0.3301\n",
            "Epoch 8/10\n",
            "337/337 [==============================] - 1s 2ms/step - loss: 0.0177 - mae: 0.0923 - val_loss: 0.1851 - val_mae: 0.3304\n",
            "Epoch 9/10\n",
            "337/337 [==============================] - 1s 3ms/step - loss: 0.0145 - mae: 0.0843 - val_loss: 0.1875 - val_mae: 0.3339\n",
            "Epoch 10/10\n",
            "337/337 [==============================] - 1s 2ms/step - loss: 0.0119 - mae: 0.0771 - val_loss: 0.1934 - val_mae: 0.3358\n",
            "153/153 [==============================] - 0s 1ms/step - loss: 0.6632 - mae: 0.5710\n",
            "Test MAE: 0.57\n"
          ]
        }
      ]
    },
    {
      "cell_type": "code",
      "source": [
        ""
      ],
      "metadata": {
        "id": "2FuoS88yiXyQ"
      },
      "execution_count": null,
      "outputs": []
    },
    {
      "cell_type": "code",
      "source": [
        ""
      ],
      "metadata": {
        "id": "i7utEnZXiXvr"
      },
      "execution_count": null,
      "outputs": []
    },
    {
      "cell_type": "code",
      "source": [
        ""
      ],
      "metadata": {
        "id": "Xti6-XtNiXtb"
      },
      "execution_count": null,
      "outputs": []
    },
    {
      "cell_type": "code",
      "source": [
        ""
      ],
      "metadata": {
        "id": "Ed4QJxQaiXrE"
      },
      "execution_count": null,
      "outputs": []
    },
    {
      "cell_type": "code",
      "source": [
        ""
      ],
      "metadata": {
        "id": "2kovphqjYFuG"
      },
      "execution_count": null,
      "outputs": []
    },
    {
      "cell_type": "code",
      "source": [
        ""
      ],
      "metadata": {
        "id": "QmEKGtsEWvtY"
      },
      "execution_count": null,
      "outputs": []
    },
    {
      "cell_type": "code",
      "source": [
        ""
      ],
      "metadata": {
        "id": "cJFihKFDO36C"
      },
      "execution_count": null,
      "outputs": []
    }
  ],
  "metadata": {
    "accelerator": "TPU",
    "colab": {
      "collapsed_sections": [],
      "name": "Monthly supply of new house.ipynb",
      "provenance": [],
      "mount_file_id": "16kZs22uRpuOKCjWlvNFQ15X3foyPc16p",
      "authorship_tag": "ABX9TyN10MsELuSL6j7g9nRIl8hp",
      "include_colab_link": true
    },
    "kernelspec": {
      "display_name": "Python 3",
      "name": "python3"
    },
    "language_info": {
      "name": "python"
    }
  },
  "nbformat": 4,
  "nbformat_minor": 0
}